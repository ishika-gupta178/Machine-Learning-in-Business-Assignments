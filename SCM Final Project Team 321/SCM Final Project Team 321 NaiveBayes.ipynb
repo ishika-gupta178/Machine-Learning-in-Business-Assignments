{
 "cells": [
  {
   "cell_type": "code",
   "execution_count": 3,
   "id": "de75e563",
   "metadata": {},
   "outputs": [
    {
     "name": "stdout",
     "output_type": "stream",
     "text": [
      "Requirement already satisfied: numpy in /Users/pennylai/anaconda3/lib/python3.11/site-packages (1.24.3)\n",
      "Requirement already satisfied: pandas in /Users/pennylai/anaconda3/lib/python3.11/site-packages (1.5.3)\n",
      "Requirement already satisfied: scikit-learn in /Users/pennylai/anaconda3/lib/python3.11/site-packages (1.3.0)\n",
      "Requirement already satisfied: imbalanced-learn in /Users/pennylai/anaconda3/lib/python3.11/site-packages (0.10.1)\n",
      "Requirement already satisfied: plotly in /Users/pennylai/anaconda3/lib/python3.11/site-packages (5.9.0)\n",
      "Requirement already satisfied: matplotlib in /Users/pennylai/anaconda3/lib/python3.11/site-packages (3.7.1)\n",
      "Requirement already satisfied: seaborn in /Users/pennylai/anaconda3/lib/python3.11/site-packages (0.12.2)\n",
      "Requirement already satisfied: python-dateutil>=2.8.1 in /Users/pennylai/anaconda3/lib/python3.11/site-packages (from pandas) (2.8.2)\n",
      "Requirement already satisfied: pytz>=2020.1 in /Users/pennylai/anaconda3/lib/python3.11/site-packages (from pandas) (2022.7)\n",
      "Requirement already satisfied: scipy>=1.5.0 in /Users/pennylai/anaconda3/lib/python3.11/site-packages (from scikit-learn) (1.10.1)\n",
      "Requirement already satisfied: joblib>=1.1.1 in /Users/pennylai/anaconda3/lib/python3.11/site-packages (from scikit-learn) (1.2.0)\n",
      "Requirement already satisfied: threadpoolctl>=2.0.0 in /Users/pennylai/anaconda3/lib/python3.11/site-packages (from scikit-learn) (2.2.0)\n",
      "Requirement already satisfied: tenacity>=6.2.0 in /Users/pennylai/anaconda3/lib/python3.11/site-packages (from plotly) (8.2.2)\n",
      "Requirement already satisfied: contourpy>=1.0.1 in /Users/pennylai/anaconda3/lib/python3.11/site-packages (from matplotlib) (1.0.5)\n",
      "Requirement already satisfied: cycler>=0.10 in /Users/pennylai/anaconda3/lib/python3.11/site-packages (from matplotlib) (0.11.0)\n",
      "Requirement already satisfied: fonttools>=4.22.0 in /Users/pennylai/anaconda3/lib/python3.11/site-packages (from matplotlib) (4.25.0)\n",
      "Requirement already satisfied: kiwisolver>=1.0.1 in /Users/pennylai/anaconda3/lib/python3.11/site-packages (from matplotlib) (1.4.4)\n",
      "Requirement already satisfied: packaging>=20.0 in /Users/pennylai/anaconda3/lib/python3.11/site-packages (from matplotlib) (23.0)\n",
      "Requirement already satisfied: pillow>=6.2.0 in /Users/pennylai/anaconda3/lib/python3.11/site-packages (from matplotlib) (9.4.0)\n",
      "Requirement already satisfied: pyparsing>=2.3.1 in /Users/pennylai/anaconda3/lib/python3.11/site-packages (from matplotlib) (3.0.9)\n",
      "Requirement already satisfied: six>=1.5 in /Users/pennylai/anaconda3/lib/python3.11/site-packages (from python-dateutil>=2.8.1->pandas) (1.16.0)\n"
     ]
    }
   ],
   "source": [
    "!pip install numpy pandas scikit-learn imbalanced-learn plotly matplotlib seaborn"
   ]
  },
  {
   "cell_type": "code",
   "execution_count": 4,
   "id": "9d1d8f78",
   "metadata": {},
   "outputs": [],
   "source": [
    "import pandas as pd\n",
    "import numpy as np\n",
    "import matplotlib as plt\n",
    "import seaborn as sns\n",
    "from sklearn.naive_bayes import GaussianNB\n",
    "from sklearn.model_selection import train_test_split\n",
    "from sklearn.metrics import confusion_matrix, classification_report"
   ]
  },
  {
   "cell_type": "code",
   "execution_count": 5,
   "id": "f6849e0b",
   "metadata": {},
   "outputs": [],
   "source": [
    "df = pd.read_csv('Obesity Classification.csv')"
   ]
  },
  {
   "cell_type": "code",
   "execution_count": 6,
   "id": "3fc7cd20",
   "metadata": {},
   "outputs": [
    {
     "data": {
      "text/html": [
       "<div>\n",
       "<style scoped>\n",
       "    .dataframe tbody tr th:only-of-type {\n",
       "        vertical-align: middle;\n",
       "    }\n",
       "\n",
       "    .dataframe tbody tr th {\n",
       "        vertical-align: top;\n",
       "    }\n",
       "\n",
       "    .dataframe thead th {\n",
       "        text-align: right;\n",
       "    }\n",
       "</style>\n",
       "<table border=\"1\" class=\"dataframe\">\n",
       "  <thead>\n",
       "    <tr style=\"text-align: right;\">\n",
       "      <th></th>\n",
       "      <th>ID</th>\n",
       "      <th>Age</th>\n",
       "      <th>Gender</th>\n",
       "      <th>Height</th>\n",
       "      <th>Weight</th>\n",
       "      <th>BMI</th>\n",
       "      <th>Label</th>\n",
       "    </tr>\n",
       "  </thead>\n",
       "  <tbody>\n",
       "    <tr>\n",
       "      <th>0</th>\n",
       "      <td>1</td>\n",
       "      <td>25</td>\n",
       "      <td>Male</td>\n",
       "      <td>175</td>\n",
       "      <td>80</td>\n",
       "      <td>25.3</td>\n",
       "      <td>Normal Weight</td>\n",
       "    </tr>\n",
       "    <tr>\n",
       "      <th>1</th>\n",
       "      <td>2</td>\n",
       "      <td>30</td>\n",
       "      <td>Female</td>\n",
       "      <td>160</td>\n",
       "      <td>60</td>\n",
       "      <td>22.5</td>\n",
       "      <td>Normal Weight</td>\n",
       "    </tr>\n",
       "    <tr>\n",
       "      <th>2</th>\n",
       "      <td>3</td>\n",
       "      <td>35</td>\n",
       "      <td>Male</td>\n",
       "      <td>180</td>\n",
       "      <td>90</td>\n",
       "      <td>27.3</td>\n",
       "      <td>Overweight</td>\n",
       "    </tr>\n",
       "    <tr>\n",
       "      <th>3</th>\n",
       "      <td>4</td>\n",
       "      <td>40</td>\n",
       "      <td>Female</td>\n",
       "      <td>150</td>\n",
       "      <td>50</td>\n",
       "      <td>20.0</td>\n",
       "      <td>Underweight</td>\n",
       "    </tr>\n",
       "    <tr>\n",
       "      <th>4</th>\n",
       "      <td>5</td>\n",
       "      <td>45</td>\n",
       "      <td>Male</td>\n",
       "      <td>190</td>\n",
       "      <td>100</td>\n",
       "      <td>31.2</td>\n",
       "      <td>Obese</td>\n",
       "    </tr>\n",
       "  </tbody>\n",
       "</table>\n",
       "</div>"
      ],
      "text/plain": [
       "   ID  Age  Gender  Height  Weight   BMI          Label\n",
       "0   1   25    Male     175      80  25.3  Normal Weight\n",
       "1   2   30  Female     160      60  22.5  Normal Weight\n",
       "2   3   35    Male     180      90  27.3     Overweight\n",
       "3   4   40  Female     150      50  20.0    Underweight\n",
       "4   5   45    Male     190     100  31.2          Obese"
      ]
     },
     "execution_count": 6,
     "metadata": {},
     "output_type": "execute_result"
    }
   ],
   "source": [
    "df.head()"
   ]
  },
  {
   "cell_type": "code",
   "execution_count": 7,
   "id": "cf507628",
   "metadata": {},
   "outputs": [],
   "source": [
    "df.Gender.replace(('Male', 'Female'),(1,0), inplace=True)"
   ]
  },
  {
   "cell_type": "code",
   "execution_count": 8,
   "id": "9ef6755b",
   "metadata": {},
   "outputs": [
    {
     "data": {
      "text/html": [
       "<div>\n",
       "<style scoped>\n",
       "    .dataframe tbody tr th:only-of-type {\n",
       "        vertical-align: middle;\n",
       "    }\n",
       "\n",
       "    .dataframe tbody tr th {\n",
       "        vertical-align: top;\n",
       "    }\n",
       "\n",
       "    .dataframe thead th {\n",
       "        text-align: right;\n",
       "    }\n",
       "</style>\n",
       "<table border=\"1\" class=\"dataframe\">\n",
       "  <thead>\n",
       "    <tr style=\"text-align: right;\">\n",
       "      <th></th>\n",
       "      <th>ID</th>\n",
       "      <th>Age</th>\n",
       "      <th>Gender</th>\n",
       "      <th>Height</th>\n",
       "      <th>Weight</th>\n",
       "      <th>BMI</th>\n",
       "      <th>Label</th>\n",
       "    </tr>\n",
       "  </thead>\n",
       "  <tbody>\n",
       "    <tr>\n",
       "      <th>0</th>\n",
       "      <td>1</td>\n",
       "      <td>25</td>\n",
       "      <td>1</td>\n",
       "      <td>175</td>\n",
       "      <td>80</td>\n",
       "      <td>25.3</td>\n",
       "      <td>Normal Weight</td>\n",
       "    </tr>\n",
       "    <tr>\n",
       "      <th>1</th>\n",
       "      <td>2</td>\n",
       "      <td>30</td>\n",
       "      <td>0</td>\n",
       "      <td>160</td>\n",
       "      <td>60</td>\n",
       "      <td>22.5</td>\n",
       "      <td>Normal Weight</td>\n",
       "    </tr>\n",
       "    <tr>\n",
       "      <th>2</th>\n",
       "      <td>3</td>\n",
       "      <td>35</td>\n",
       "      <td>1</td>\n",
       "      <td>180</td>\n",
       "      <td>90</td>\n",
       "      <td>27.3</td>\n",
       "      <td>Overweight</td>\n",
       "    </tr>\n",
       "    <tr>\n",
       "      <th>3</th>\n",
       "      <td>4</td>\n",
       "      <td>40</td>\n",
       "      <td>0</td>\n",
       "      <td>150</td>\n",
       "      <td>50</td>\n",
       "      <td>20.0</td>\n",
       "      <td>Underweight</td>\n",
       "    </tr>\n",
       "    <tr>\n",
       "      <th>4</th>\n",
       "      <td>5</td>\n",
       "      <td>45</td>\n",
       "      <td>1</td>\n",
       "      <td>190</td>\n",
       "      <td>100</td>\n",
       "      <td>31.2</td>\n",
       "      <td>Obese</td>\n",
       "    </tr>\n",
       "  </tbody>\n",
       "</table>\n",
       "</div>"
      ],
      "text/plain": [
       "   ID  Age  Gender  Height  Weight   BMI          Label\n",
       "0   1   25       1     175      80  25.3  Normal Weight\n",
       "1   2   30       0     160      60  22.5  Normal Weight\n",
       "2   3   35       1     180      90  27.3     Overweight\n",
       "3   4   40       0     150      50  20.0    Underweight\n",
       "4   5   45       1     190     100  31.2          Obese"
      ]
     },
     "execution_count": 8,
     "metadata": {},
     "output_type": "execute_result"
    }
   ],
   "source": [
    "df.head()"
   ]
  },
  {
   "cell_type": "code",
   "execution_count": 9,
   "id": "586896a2",
   "metadata": {},
   "outputs": [],
   "source": [
    "X = df.iloc[:,:6].astype(int)"
   ]
  },
  {
   "cell_type": "code",
   "execution_count": 10,
   "id": "da0c1042",
   "metadata": {},
   "outputs": [
    {
     "name": "stdout",
     "output_type": "stream",
     "text": [
      "<class 'pandas.core.frame.DataFrame'>\n",
      "RangeIndex: 108 entries, 0 to 107\n",
      "Data columns (total 6 columns):\n",
      " #   Column  Non-Null Count  Dtype\n",
      "---  ------  --------------  -----\n",
      " 0   ID      108 non-null    int64\n",
      " 1   Age     108 non-null    int64\n",
      " 2   Gender  108 non-null    int64\n",
      " 3   Height  108 non-null    int64\n",
      " 4   Weight  108 non-null    int64\n",
      " 5   BMI     108 non-null    int64\n",
      "dtypes: int64(6)\n",
      "memory usage: 5.2 KB\n"
     ]
    }
   ],
   "source": [
    "X.info()"
   ]
  },
  {
   "cell_type": "code",
   "execution_count": 11,
   "id": "6df3bd8a",
   "metadata": {},
   "outputs": [],
   "source": [
    "y =df.iloc[:,6]"
   ]
  },
  {
   "cell_type": "code",
   "execution_count": 12,
   "id": "a0f99182",
   "metadata": {},
   "outputs": [
    {
     "data": {
      "text/plain": [
       "0      Normal Weight\n",
       "1      Normal Weight\n",
       "2         Overweight\n",
       "3        Underweight\n",
       "4              Obese\n",
       "           ...      \n",
       "103      Underweight\n",
       "104      Underweight\n",
       "105      Underweight\n",
       "106      Underweight\n",
       "107      Underweight\n",
       "Name: Label, Length: 108, dtype: object"
      ]
     },
     "execution_count": 12,
     "metadata": {},
     "output_type": "execute_result"
    }
   ],
   "source": [
    "y"
   ]
  },
  {
   "cell_type": "code",
   "execution_count": 13,
   "id": "dc45281f",
   "metadata": {},
   "outputs": [],
   "source": [
    "# df.Label.replace(['Normal Weight'],0, inplace=True)\n",
    "# df.Label.replace(['Underweight'],1, inplace=True)\n",
    "# df.Label.replace(['Overweight'], 2, inplace=True)\n",
    "# df.Label.replace(['Obese'], 3, inplace=True)"
   ]
  },
  {
   "cell_type": "code",
   "execution_count": 14,
   "id": "ce2f48c7",
   "metadata": {},
   "outputs": [
    {
     "data": {
      "text/plain": [
       "0      Normal Weight\n",
       "1      Normal Weight\n",
       "2         Overweight\n",
       "3        Underweight\n",
       "4              Obese\n",
       "           ...      \n",
       "103      Underweight\n",
       "104      Underweight\n",
       "105      Underweight\n",
       "106      Underweight\n",
       "107      Underweight\n",
       "Name: Label, Length: 108, dtype: object"
      ]
     },
     "execution_count": 14,
     "metadata": {},
     "output_type": "execute_result"
    }
   ],
   "source": [
    "df['Label']"
   ]
  },
  {
   "cell_type": "code",
   "execution_count": 15,
   "id": "193dab7e",
   "metadata": {},
   "outputs": [],
   "source": [
    "y =df['Label'].values"
   ]
  },
  {
   "cell_type": "code",
   "execution_count": 16,
   "id": "72c9c487",
   "metadata": {},
   "outputs": [
    {
     "data": {
      "text/plain": [
       "array(['Normal Weight', 'Normal Weight', 'Overweight', 'Underweight',\n",
       "       'Obese', 'Underweight', 'Obese', 'Underweight', 'Obese',\n",
       "       'Underweight', 'Normal Weight', 'Underweight', 'Normal Weight',\n",
       "       'Normal Weight', 'Overweight', 'Underweight', 'Obese',\n",
       "       'Underweight', 'Obese', 'Underweight', 'Normal Weight',\n",
       "       'Normal Weight', 'Overweight', 'Underweight', 'Obese',\n",
       "       'Underweight', 'Obese', 'Underweight', 'Obese', 'Normal Weight',\n",
       "       'Normal Weight', 'Overweight', 'Overweight', 'Overweight', 'Obese',\n",
       "       'Overweight', 'Obese', 'Overweight', 'Normal Weight',\n",
       "       'Underweight', 'Normal Weight', 'Normal Weight', 'Overweight',\n",
       "       'Normal Weight', 'Overweight', 'Overweight', 'Obese', 'Overweight',\n",
       "       'Normal Weight', 'Underweight', 'Normal Weight', 'Normal Weight',\n",
       "       'Overweight', 'Normal Weight', 'Overweight', 'Overweight', 'Obese',\n",
       "       'Overweight', 'Normal Weight', 'Underweight', 'Normal Weight',\n",
       "       'Underweight', 'Normal Weight', 'Normal Weight', 'Overweight',\n",
       "       'Normal Weight', 'Overweight', 'Overweight', 'Underweight',\n",
       "       'Underweight', 'Normal Weight', 'Underweight', 'Normal Weight',\n",
       "       'Underweight', 'Normal Weight', 'Normal Weight', 'Overweight',\n",
       "       'Normal Weight', 'Underweight', 'Underweight', 'Underweight',\n",
       "       'Underweight', 'Normal Weight', 'Underweight', 'Underweight',\n",
       "       'Underweight', 'Underweight', 'Underweight', 'Underweight',\n",
       "       'Underweight', 'Underweight', 'Normal Weight', 'Underweight',\n",
       "       'Underweight', 'Underweight', 'Underweight', 'Underweight',\n",
       "       'Underweight', 'Underweight', 'Underweight', 'Underweight',\n",
       "       'Underweight', 'Underweight', 'Underweight', 'Underweight',\n",
       "       'Underweight', 'Underweight', 'Underweight'], dtype=object)"
      ]
     },
     "execution_count": 16,
     "metadata": {},
     "output_type": "execute_result"
    }
   ],
   "source": [
    "y"
   ]
  },
  {
   "cell_type": "code",
   "execution_count": 17,
   "id": "de48ea5f",
   "metadata": {},
   "outputs": [],
   "source": [
    "Xtrain, Xtest, ytrain, ytest =train_test_split(X,y,test_size=0.3, random_state=12)"
   ]
  },
  {
   "cell_type": "code",
   "execution_count": 18,
   "id": "ae3e7438",
   "metadata": {},
   "outputs": [],
   "source": [
    "model=GaussianNB()"
   ]
  },
  {
   "cell_type": "code",
   "execution_count": 19,
   "id": "ae0f13ac",
   "metadata": {},
   "outputs": [
    {
     "data": {
      "text/html": [
       "<style>#sk-container-id-1 {color: black;}#sk-container-id-1 pre{padding: 0;}#sk-container-id-1 div.sk-toggleable {background-color: white;}#sk-container-id-1 label.sk-toggleable__label {cursor: pointer;display: block;width: 100%;margin-bottom: 0;padding: 0.3em;box-sizing: border-box;text-align: center;}#sk-container-id-1 label.sk-toggleable__label-arrow:before {content: \"▸\";float: left;margin-right: 0.25em;color: #696969;}#sk-container-id-1 label.sk-toggleable__label-arrow:hover:before {color: black;}#sk-container-id-1 div.sk-estimator:hover label.sk-toggleable__label-arrow:before {color: black;}#sk-container-id-1 div.sk-toggleable__content {max-height: 0;max-width: 0;overflow: hidden;text-align: left;background-color: #f0f8ff;}#sk-container-id-1 div.sk-toggleable__content pre {margin: 0.2em;color: black;border-radius: 0.25em;background-color: #f0f8ff;}#sk-container-id-1 input.sk-toggleable__control:checked~div.sk-toggleable__content {max-height: 200px;max-width: 100%;overflow: auto;}#sk-container-id-1 input.sk-toggleable__control:checked~label.sk-toggleable__label-arrow:before {content: \"▾\";}#sk-container-id-1 div.sk-estimator input.sk-toggleable__control:checked~label.sk-toggleable__label {background-color: #d4ebff;}#sk-container-id-1 div.sk-label input.sk-toggleable__control:checked~label.sk-toggleable__label {background-color: #d4ebff;}#sk-container-id-1 input.sk-hidden--visually {border: 0;clip: rect(1px 1px 1px 1px);clip: rect(1px, 1px, 1px, 1px);height: 1px;margin: -1px;overflow: hidden;padding: 0;position: absolute;width: 1px;}#sk-container-id-1 div.sk-estimator {font-family: monospace;background-color: #f0f8ff;border: 1px dotted black;border-radius: 0.25em;box-sizing: border-box;margin-bottom: 0.5em;}#sk-container-id-1 div.sk-estimator:hover {background-color: #d4ebff;}#sk-container-id-1 div.sk-parallel-item::after {content: \"\";width: 100%;border-bottom: 1px solid gray;flex-grow: 1;}#sk-container-id-1 div.sk-label:hover label.sk-toggleable__label {background-color: #d4ebff;}#sk-container-id-1 div.sk-serial::before {content: \"\";position: absolute;border-left: 1px solid gray;box-sizing: border-box;top: 0;bottom: 0;left: 50%;z-index: 0;}#sk-container-id-1 div.sk-serial {display: flex;flex-direction: column;align-items: center;background-color: white;padding-right: 0.2em;padding-left: 0.2em;position: relative;}#sk-container-id-1 div.sk-item {position: relative;z-index: 1;}#sk-container-id-1 div.sk-parallel {display: flex;align-items: stretch;justify-content: center;background-color: white;position: relative;}#sk-container-id-1 div.sk-item::before, #sk-container-id-1 div.sk-parallel-item::before {content: \"\";position: absolute;border-left: 1px solid gray;box-sizing: border-box;top: 0;bottom: 0;left: 50%;z-index: -1;}#sk-container-id-1 div.sk-parallel-item {display: flex;flex-direction: column;z-index: 1;position: relative;background-color: white;}#sk-container-id-1 div.sk-parallel-item:first-child::after {align-self: flex-end;width: 50%;}#sk-container-id-1 div.sk-parallel-item:last-child::after {align-self: flex-start;width: 50%;}#sk-container-id-1 div.sk-parallel-item:only-child::after {width: 0;}#sk-container-id-1 div.sk-dashed-wrapped {border: 1px dashed gray;margin: 0 0.4em 0.5em 0.4em;box-sizing: border-box;padding-bottom: 0.4em;background-color: white;}#sk-container-id-1 div.sk-label label {font-family: monospace;font-weight: bold;display: inline-block;line-height: 1.2em;}#sk-container-id-1 div.sk-label-container {text-align: center;}#sk-container-id-1 div.sk-container {/* jupyter's `normalize.less` sets `[hidden] { display: none; }` but bootstrap.min.css set `[hidden] { display: none !important; }` so we also need the `!important` here to be able to override the default hidden behavior on the sphinx rendered scikit-learn.org. See: https://github.com/scikit-learn/scikit-learn/issues/21755 */display: inline-block !important;position: relative;}#sk-container-id-1 div.sk-text-repr-fallback {display: none;}</style><div id=\"sk-container-id-1\" class=\"sk-top-container\"><div class=\"sk-text-repr-fallback\"><pre>GaussianNB()</pre><b>In a Jupyter environment, please rerun this cell to show the HTML representation or trust the notebook. <br />On GitHub, the HTML representation is unable to render, please try loading this page with nbviewer.org.</b></div><div class=\"sk-container\" hidden><div class=\"sk-item\"><div class=\"sk-estimator sk-toggleable\"><input class=\"sk-toggleable__control sk-hidden--visually\" id=\"sk-estimator-id-1\" type=\"checkbox\" checked><label for=\"sk-estimator-id-1\" class=\"sk-toggleable__label sk-toggleable__label-arrow\">GaussianNB</label><div class=\"sk-toggleable__content\"><pre>GaussianNB()</pre></div></div></div></div></div>"
      ],
      "text/plain": [
       "GaussianNB()"
      ]
     },
     "execution_count": 19,
     "metadata": {},
     "output_type": "execute_result"
    }
   ],
   "source": [
    "model.fit(Xtrain, ytrain)"
   ]
  },
  {
   "cell_type": "code",
   "execution_count": 20,
   "id": "f1d6855f",
   "metadata": {},
   "outputs": [],
   "source": [
    "ypred =model.predict(Xtest)"
   ]
  },
  {
   "cell_type": "code",
   "execution_count": 21,
   "id": "2183be5a",
   "metadata": {},
   "outputs": [
    {
     "data": {
      "text/plain": [
       "array(['Obese', 'Normal Weight', 'Underweight', 'Underweight',\n",
       "       'Underweight', 'Obese', 'Underweight', 'Normal Weight', 'Obese',\n",
       "       'Underweight', 'Underweight', 'Normal Weight', 'Overweight',\n",
       "       'Underweight', 'Underweight', 'Obese', 'Obese', 'Underweight',\n",
       "       'Underweight', 'Underweight', 'Normal Weight', 'Normal Weight',\n",
       "       'Overweight', 'Underweight', 'Normal Weight', 'Normal Weight',\n",
       "       'Normal Weight', 'Obese', 'Underweight', 'Normal Weight',\n",
       "       'Normal Weight', 'Underweight', 'Obese'], dtype='<U13')"
      ]
     },
     "execution_count": 21,
     "metadata": {},
     "output_type": "execute_result"
    }
   ],
   "source": [
    "ypred"
   ]
  },
  {
   "cell_type": "code",
   "execution_count": 22,
   "id": "c68747c4",
   "metadata": {},
   "outputs": [
    {
     "name": "stdout",
     "output_type": "stream",
     "text": [
      "Accuracy of NB is:  0.92\n"
     ]
    }
   ],
   "source": [
    "print('Accuracy of NB is: ', model.score(Xtrain, ytrain))"
   ]
  },
  {
   "cell_type": "code",
   "execution_count": 23,
   "id": "15b6a3ff",
   "metadata": {},
   "outputs": [],
   "source": [
    "cm = confusion_matrix(ypred, ytest)"
   ]
  },
  {
   "cell_type": "code",
   "execution_count": 24,
   "id": "ecdc342b",
   "metadata": {},
   "outputs": [
    {
     "name": "stdout",
     "output_type": "stream",
     "text": [
      "               precision    recall  f1-score   support\n",
      "\n",
      "Normal Weight       0.89      0.80      0.84        10\n",
      "        Obese       1.00      0.71      0.83         7\n",
      "   Overweight       0.33      0.50      0.40         2\n",
      "  Underweight       0.88      1.00      0.93        14\n",
      "\n",
      "     accuracy                           0.85        33\n",
      "    macro avg       0.77      0.75      0.75        33\n",
      " weighted avg       0.87      0.85      0.85        33\n",
      "\n"
     ]
    }
   ],
   "source": [
    "print(classification_report(ypred,ytest))"
   ]
  },
  {
   "cell_type": "code",
   "execution_count": 25,
   "id": "2d987747",
   "metadata": {},
   "outputs": [
    {
     "name": "stdout",
     "output_type": "stream",
     "text": [
      "<class 'pandas.core.frame.DataFrame'>\n",
      "RangeIndex: 108 entries, 0 to 107\n",
      "Data columns (total 7 columns):\n",
      " #   Column  Non-Null Count  Dtype  \n",
      "---  ------  --------------  -----  \n",
      " 0   ID      108 non-null    int64  \n",
      " 1   Age     108 non-null    int64  \n",
      " 2   Gender  108 non-null    int64  \n",
      " 3   Height  108 non-null    int64  \n",
      " 4   Weight  108 non-null    int64  \n",
      " 5   BMI     108 non-null    float64\n",
      " 6   Label   108 non-null    object \n",
      "dtypes: float64(1), int64(5), object(1)\n",
      "memory usage: 6.0+ KB\n"
     ]
    }
   ],
   "source": [
    "df.info()"
   ]
  },
  {
   "cell_type": "code",
   "execution_count": 26,
   "id": "901f4c73",
   "metadata": {},
   "outputs": [
    {
     "data": {
      "text/html": [
       "<div>\n",
       "<style scoped>\n",
       "    .dataframe tbody tr th:only-of-type {\n",
       "        vertical-align: middle;\n",
       "    }\n",
       "\n",
       "    .dataframe tbody tr th {\n",
       "        vertical-align: top;\n",
       "    }\n",
       "\n",
       "    .dataframe thead th {\n",
       "        text-align: right;\n",
       "    }\n",
       "</style>\n",
       "<table border=\"1\" class=\"dataframe\">\n",
       "  <thead>\n",
       "    <tr style=\"text-align: right;\">\n",
       "      <th></th>\n",
       "      <th>ID</th>\n",
       "      <th>Age</th>\n",
       "      <th>Gender</th>\n",
       "      <th>Height</th>\n",
       "      <th>Weight</th>\n",
       "      <th>BMI</th>\n",
       "      <th>Label</th>\n",
       "    </tr>\n",
       "  </thead>\n",
       "  <tbody>\n",
       "    <tr>\n",
       "      <th>0</th>\n",
       "      <td>1</td>\n",
       "      <td>25</td>\n",
       "      <td>1</td>\n",
       "      <td>175</td>\n",
       "      <td>80</td>\n",
       "      <td>25.3</td>\n",
       "      <td>Normal Weight</td>\n",
       "    </tr>\n",
       "    <tr>\n",
       "      <th>1</th>\n",
       "      <td>2</td>\n",
       "      <td>30</td>\n",
       "      <td>0</td>\n",
       "      <td>160</td>\n",
       "      <td>60</td>\n",
       "      <td>22.5</td>\n",
       "      <td>Normal Weight</td>\n",
       "    </tr>\n",
       "    <tr>\n",
       "      <th>2</th>\n",
       "      <td>3</td>\n",
       "      <td>35</td>\n",
       "      <td>1</td>\n",
       "      <td>180</td>\n",
       "      <td>90</td>\n",
       "      <td>27.3</td>\n",
       "      <td>Overweight</td>\n",
       "    </tr>\n",
       "    <tr>\n",
       "      <th>3</th>\n",
       "      <td>4</td>\n",
       "      <td>40</td>\n",
       "      <td>0</td>\n",
       "      <td>150</td>\n",
       "      <td>50</td>\n",
       "      <td>20.0</td>\n",
       "      <td>Underweight</td>\n",
       "    </tr>\n",
       "    <tr>\n",
       "      <th>4</th>\n",
       "      <td>5</td>\n",
       "      <td>45</td>\n",
       "      <td>1</td>\n",
       "      <td>190</td>\n",
       "      <td>100</td>\n",
       "      <td>31.2</td>\n",
       "      <td>Obese</td>\n",
       "    </tr>\n",
       "    <tr>\n",
       "      <th>...</th>\n",
       "      <td>...</td>\n",
       "      <td>...</td>\n",
       "      <td>...</td>\n",
       "      <td>...</td>\n",
       "      <td>...</td>\n",
       "      <td>...</td>\n",
       "      <td>...</td>\n",
       "    </tr>\n",
       "    <tr>\n",
       "      <th>103</th>\n",
       "      <td>106</td>\n",
       "      <td>11</td>\n",
       "      <td>1</td>\n",
       "      <td>175</td>\n",
       "      <td>10</td>\n",
       "      <td>3.9</td>\n",
       "      <td>Underweight</td>\n",
       "    </tr>\n",
       "    <tr>\n",
       "      <th>104</th>\n",
       "      <td>107</td>\n",
       "      <td>16</td>\n",
       "      <td>0</td>\n",
       "      <td>160</td>\n",
       "      <td>10</td>\n",
       "      <td>3.9</td>\n",
       "      <td>Underweight</td>\n",
       "    </tr>\n",
       "    <tr>\n",
       "      <th>105</th>\n",
       "      <td>108</td>\n",
       "      <td>21</td>\n",
       "      <td>1</td>\n",
       "      <td>180</td>\n",
       "      <td>15</td>\n",
       "      <td>5.6</td>\n",
       "      <td>Underweight</td>\n",
       "    </tr>\n",
       "    <tr>\n",
       "      <th>106</th>\n",
       "      <td>109</td>\n",
       "      <td>26</td>\n",
       "      <td>0</td>\n",
       "      <td>150</td>\n",
       "      <td>15</td>\n",
       "      <td>5.6</td>\n",
       "      <td>Underweight</td>\n",
       "    </tr>\n",
       "    <tr>\n",
       "      <th>107</th>\n",
       "      <td>110</td>\n",
       "      <td>31</td>\n",
       "      <td>1</td>\n",
       "      <td>190</td>\n",
       "      <td>20</td>\n",
       "      <td>8.3</td>\n",
       "      <td>Underweight</td>\n",
       "    </tr>\n",
       "  </tbody>\n",
       "</table>\n",
       "<p>108 rows × 7 columns</p>\n",
       "</div>"
      ],
      "text/plain": [
       "      ID  Age  Gender  Height  Weight   BMI          Label\n",
       "0      1   25       1     175      80  25.3  Normal Weight\n",
       "1      2   30       0     160      60  22.5  Normal Weight\n",
       "2      3   35       1     180      90  27.3     Overweight\n",
       "3      4   40       0     150      50  20.0    Underweight\n",
       "4      5   45       1     190     100  31.2          Obese\n",
       "..   ...  ...     ...     ...     ...   ...            ...\n",
       "103  106   11       1     175      10   3.9    Underweight\n",
       "104  107   16       0     160      10   3.9    Underweight\n",
       "105  108   21       1     180      15   5.6    Underweight\n",
       "106  109   26       0     150      15   5.6    Underweight\n",
       "107  110   31       1     190      20   8.3    Underweight\n",
       "\n",
       "[108 rows x 7 columns]"
      ]
     },
     "execution_count": 26,
     "metadata": {},
     "output_type": "execute_result"
    }
   ],
   "source": [
    "df"
   ]
  },
  {
   "cell_type": "code",
   "execution_count": 27,
   "id": "1ffb69ad",
   "metadata": {},
   "outputs": [
    {
     "name": "stdout",
     "output_type": "stream",
     "text": [
      "Probability that a person is obese if their age is greater than 40 is:  0.21\n"
     ]
    }
   ],
   "source": [
    "# What is the probability that a person is obese if their age is over 40?\n",
    "people_age_over_40_df = df[df['Age'] > 40]\n",
    "num_people_age_over_40 = df[df['Age'] > 40]['ID'].nunique()\n",
    "num_obese_and_over_40 = people_age_over_40_df[people_age_over_40_df['Label'] == 'Obese']['ID'].nunique()\n",
    "print(\"Probability that a person is obese if their age is greater than 40 is: \", \n",
    "      round(num_obese_and_over_40 / num_people_age_over_40,2))"
   ]
  },
  {
   "cell_type": "code",
   "execution_count": 28,
   "id": "d2f0cbdd",
   "metadata": {},
   "outputs": [
    {
     "name": "stdout",
     "output_type": "stream",
     "text": [
      "Probability that male is obese if their age is greater than 40 is:  0.44\n"
     ]
    }
   ],
   "source": [
    "# What is the probability that a person is obese if their age is over 40 and gender is male?\n",
    "\n",
    "people_age_over_40_is_male_df = df[(df['Age'] > 40) & (df['Gender']==1)]\n",
    "num_people_age_over_40_is_male = people_age_over_40_is_male_df['ID'].nunique()\n",
    "num_people_age_over_40_is_male\n",
    "num_obese_and_over_40_is_male = people_age_over_40_is_male_df[people_age_over_40_is_male_df['Label'] \n",
    "                                                              == 'Obese']['ID'].nunique()\n",
    "print(\"Probability that male is obese if their age is greater than 40 is: \", \n",
    "      round(num_obese_and_over_40_is_male / num_people_age_over_40_is_male,2))\n"
   ]
  },
  {
   "cell_type": "code",
   "execution_count": 29,
   "id": "c7db57a3",
   "metadata": {},
   "outputs": [
    {
     "name": "stdout",
     "output_type": "stream",
     "text": [
      "Probability that a person is obese if their weight is greater than 80 is:  0.43\n"
     ]
    }
   ],
   "source": [
    "# What is the probability that a person is obese if their weight is over 80?\n",
    "people_weight_over_80_df = df[df['Weight'] > 80]\n",
    "num_people_weight_over_80 = df[df['Weight'] > 80]['ID'].nunique()\n",
    "num_obese_and_over_80 = people_weight_over_80_df[people_weight_over_80_df['Label'] == 'Obese']['ID'].nunique()\n",
    "print(\"Probability that a person is obese if their weight is greater than 80 is: \", \n",
    "      round(num_obese_and_over_80 / num_people_weight_over_80,2))\n"
   ]
  },
  {
   "cell_type": "code",
   "execution_count": 30,
   "id": "2f2f0da6",
   "metadata": {},
   "outputs": [
    {
     "name": "stdout",
     "output_type": "stream",
     "text": [
      "Probability that male is obese if their weight is greater than 80 is:  0.5\n"
     ]
    }
   ],
   "source": [
    "# What is the probability that a person is obese if their weight is over 80 and gender is male?\n",
    "people_weight_over_80_is_male_df = df[(df['Weight']> 80) & (df['Gender']==1)]\n",
    "num_people_weight_over_80_is_male = df[(df['Weight']> 80) & (df['Gender']==1)]['ID'].nunique()\n",
    "num_obese_and_over_80_is_male = people_weight_over_80_is_male_df[people_weight_over_80_is_male_df['Label'] \n",
    "                                                                 == 'Obese']['ID'].nunique()\n",
    "\n",
    "print(\"Probability that male is obese if their weight is greater than 80 is: \", \n",
    "      round(num_obese_and_over_80_is_male / num_people_weight_over_80_is_male,2))\n",
    "\n"
   ]
  },
  {
   "cell_type": "code",
   "execution_count": 31,
   "id": "afe4d785",
   "metadata": {},
   "outputs": [
    {
     "name": "stdout",
     "output_type": "stream",
     "text": [
      "Probability that a person is obese if their height is taller than 180 is:  0.38\n"
     ]
    }
   ],
   "source": [
    "# What is the probability that a person is obese if their height is over 180?\n",
    "people_height_over_180_df = df[df['Height'] > 180]\n",
    "num_people_height_over_180 = df[df['Height'] > 180]['ID'].nunique()\n",
    "num_obese_and_over_180 = people_height_over_180_df[people_height_over_180_df['Label'] == 'Obese']['ID'].nunique()\n",
    "print(\"Probability that a person is obese if their height is taller than 180 is: \", \n",
    "      round(num_obese_and_over_180 / num_people_height_over_180,2))\n",
    "\n"
   ]
  },
  {
   "cell_type": "code",
   "execution_count": 32,
   "id": "3e47feab",
   "metadata": {
    "scrolled": true
   },
   "outputs": [
    {
     "name": "stdout",
     "output_type": "stream",
     "text": [
      "Probability that male is obese if their height is taller than 180 is:  0.38\n"
     ]
    }
   ],
   "source": [
    "# What is the probability that a person is obese if their height is over 180 and gender is male?\n",
    "people_height_over_180_is_male_df = df[(df['Height'] > 180)& (df['Gender']==1)]\n",
    "num_people_height_over_180_is_male = df[(df['Height'] > 180)& (df['Gender']==1)]['ID'].nunique()\n",
    "num_obese_and_over_180_is_male = people_height_over_180_is_male_df[people_height_over_180_is_male_df['Label'] \n",
    "                                                                   == 'Obese']['ID'].nunique()\n",
    "print(\"Probability that male is obese if their height is taller than 180 is: \", \n",
    "      round(num_obese_and_over_180_is_male / num_people_height_over_180_is_male,2))\n",
    "\n"
   ]
  },
  {
   "cell_type": "code",
   "execution_count": 40,
   "id": "ff5a79b6",
   "metadata": {},
   "outputs": [
    {
     "name": "stdout",
     "output_type": "stream",
     "text": [
      "Probability that person is overweight if their height is less than 150 and weight is over 80 is:  1.0\n"
     ]
    }
   ],
   "source": [
    "people_height_less_150_and_weight_over_80_df = df[(df['Height'] < 150)& (df['Weight']>80)]\n",
    "num_people_height_less_150_and_weight_over_80 =  df[(df['Height'] < 150)& (df['Weight']>80)]['ID'].nunique()\n",
    "num_overweight_and_height_less_150_and_weight_over_80 = people_height_less_150_and_weight_over_80_df[people_height_less_150_and_weight_over_80_df['Label']=='Overweight']['ID'].nunique()\n",
    "print(\"Probability that person is overweight if their height is less than 150 and weight is over 80 is: \"\n",
    "      ,(num_overweight_and_height_less_150_and_weight_over_80/num_people_height_less_150_and_weight_over_80)\n",
    "     )"
   ]
  },
  {
   "cell_type": "code",
   "execution_count": null,
   "id": "755223f7",
   "metadata": {},
   "outputs": [],
   "source": []
  },
  {
   "cell_type": "code",
   "execution_count": null,
   "id": "8d2ae9eb",
   "metadata": {},
   "outputs": [],
   "source": []
  },
  {
   "cell_type": "code",
   "execution_count": null,
   "id": "94d20ce1",
   "metadata": {},
   "outputs": [],
   "source": []
  },
  {
   "cell_type": "code",
   "execution_count": null,
   "id": "c4f2be8c",
   "metadata": {},
   "outputs": [],
   "source": []
  }
 ],
 "metadata": {
  "kernelspec": {
   "display_name": "Python 3 (ipykernel)",
   "language": "python",
   "name": "python3"
  },
  "language_info": {
   "codemirror_mode": {
    "name": "ipython",
    "version": 3
   },
   "file_extension": ".py",
   "mimetype": "text/x-python",
   "name": "python",
   "nbconvert_exporter": "python",
   "pygments_lexer": "ipython3",
   "version": "3.11.4"
  }
 },
 "nbformat": 4,
 "nbformat_minor": 5
}
